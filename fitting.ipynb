{
 "metadata": {
  "language_info": {
   "codemirror_mode": {
    "name": "ipython",
    "version": 3
   },
   "file_extension": ".py",
   "mimetype": "text/x-python",
   "name": "python",
   "nbconvert_exporter": "python",
   "pygments_lexer": "ipython3",
   "version": "3.8.5"
  },
  "orig_nbformat": 2,
  "kernelspec": {
   "name": "python385jvsc74a57bd0e6133e42aac5dc2d553b4edf4acd3b3f34e58430dcf58f5f8eee65ed990b861f",
   "display_name": "Python 3.8.5 64-bit (conda)"
  }
 },
 "nbformat": 4,
 "nbformat_minor": 2,
 "cells": [
  {
   "cell_type": "code",
   "execution_count": null,
   "metadata": {},
   "outputs": [],
   "source": [
    "!pip install opencv-python\n",
    "from os import listdir\n",
    "import PIL as pil\n",
    "import cv2\n",
    "from datetime import datetime\n",
    "import pandas as pd\n",
    "import sgolay2 as sgf2\n",
    "from scipy import signal\n",
    "import numpy as np\n",
    "from skimage import exposure\n",
    "import matplotlib.pyplot as plt"
   ]
  },
  {
   "cell_type": "code",
   "execution_count": null,
   "metadata": {},
   "outputs": [],
   "source": [
    "try:\n",
    "    df = pd.read_csv('data.csv')\n",
    "except: None"
   ]
  },
  {
   "cell_type": "code",
   "execution_count": null,
   "metadata": {},
   "outputs": [],
   "source": [
    "if df.empty:\n",
    "    files = [file for file in listdir('images/') if file.endswith('tiff')]\n",
    "else:\n",
    "    files = [file for file in listdir('images/') if file.endswith('tiff') and file not in df[filename]]"
   ]
  },
  {
   "cell_type": "code",
   "execution_count": null,
   "metadata": {},
   "outputs": [],
   "source": [
    "def get_images(filess):\n",
    "    return [cv2.imread('images/'+file, cv2.IMREAD_ANYDEPTH | cv2.IMREAD_GRAYSCALE) for file in filess]\n",
    "def get_image(file):\n",
    "    return cv2.imread('images/'+file, cv2.IMREAD_ANYDEPTH | cv2.IMREAD_GRAYSCALE)"
   ]
  },
  {
   "cell_type": "code",
   "execution_count": null,
   "metadata": {},
   "outputs": [],
   "source": [
    "def filter_image(image):\n",
    "    #return image\n",
    "    return sgf2.SGolayFilter2(window_size=9, poly_order=3)(image)"
   ]
  },
  {
   "cell_type": "code",
   "execution_count": null,
   "metadata": {},
   "outputs": [],
   "source": [
    "def contrast_image(image):\n",
    "    return exposure.rescale_intensity(image, in_range=tuple(np.percentile(image, (10.0, 95.0))))"
   ]
  },
  {
   "cell_type": "code",
   "execution_count": null,
   "metadata": {},
   "outputs": [],
   "source": [
    "def convolve_image(image):\n",
    "    return signal.convolve(image, [[-1.], [-1.], [-1.],\n",
    "                                    [-1.], [8.], [-1.],\n",
    "                                    [-1.], [-1.], [-1.]])"
   ]
  },
  {
   "cell_type": "code",
   "execution_count": 180,
   "metadata": {},
   "outputs": [],
   "source": [
    "def save_data(data):\n",
    "    try:\n",
    "        pd.read_csv('data.csv')\n",
    "        header = False\n",
    "    except:\n",
    "        header = True\n",
    "    data.to_csv('data.csv', mode='a', header=header, index=False)"
   ]
  },
  {
   "cell_type": "code",
   "execution_count": 239,
   "metadata": {},
   "outputs": [],
   "source": [
    "def get_files():\n",
    "    try:\n",
    "        df = pd.read_csv('data.csv')\n",
    "    except: df = pd.DataFrame(columns=[1])\n",
    "    print(df)\n",
    "    if df.empty:\n",
    "        return [file for file in listdir('images/') if file.endswith('tiff')]\n",
    "    else:\n",
    "        return [file for file in listdir('images/') if file.endswith('tiff') and not(df['filename'].str.contains(file).any())]"
   ]
  },
  {
   "cell_type": "code",
   "execution_count": 240,
   "metadata": {},
   "outputs": [],
   "source": [
    "def run():\n",
    "    files = get_files()\n",
    "    for i in files:\n",
    "        img = get_image(i)\n",
    "        time = datetime.now()\n",
    "        con_img = convolve_image(contrast_image(img))\n",
    "        filter_img = filter_image(con_img)\n",
    "        sur = abs((filter_img))>np.max(filter_img)*0.2\n",
    "        sur = np.where(sur==True)\n",
    "        k = np.max(sur)\n",
    "        surr= (sur[0]/k,sur[1]/k)\n",
    "        #fitt_ellipse\n",
    "        el_x = None\n",
    "        el_y = None\n",
    "        el_maj = None\n",
    "        el_min = None\n",
    "        el_ang = None\n",
    "        time = datetime.now()-time\n",
    "        time = time.total_seconds()*1000\n",
    "        data = {\n",
    "            'filename': [i],\n",
    "            'ellipse_center_x': [el_x],\n",
    "            'ellipse_center_y': [el_y],\n",
    "            'ellipse_majoraxis': [el_maj],\n",
    "            'ellipse_minoraxis': [el_min],\n",
    "            'ellipse_angle': [el_ang],\n",
    "            'elapsed_time': [time],\n",
    "        }\n",
    "        save_data(pd.DataFrame(data))"
   ]
  },
  {
   "cell_type": "code",
   "execution_count": 243,
   "metadata": {},
   "outputs": [
    {
     "output_type": "stream",
     "name": "stdout",
     "text": [
      "                           filename  ellipse_center_x  ellipse_center_y  \\\n0   2018-02-15 17.27.27.162000.tiff               NaN               NaN   \n1   2018-02-15 17.47.00.307000.tiff               NaN               NaN   \n2   2018-02-15 18.32.49.235000.tiff               NaN               NaN   \n3   2018-05-04 13.54.29.405000.tiff               NaN               NaN   \n4            2018-06-05_135014.tiff               NaN               NaN   \n5   2018-06-08 14.57.44.346000.tiff               NaN               NaN   \n6   2018-06-08 15.00.10.616000.tiff               NaN               NaN   \n7   2018-06-08 15.07.53.070000.tiff               NaN               NaN   \n8   2018-06-08 16.20.38.646000.tiff               NaN               NaN   \n9            2018-07-24_111559.tiff               NaN               NaN   \n10           2018-11-06_111158.tiff               NaN               NaN   \n\n    ellipse_majoraxis  ellipse_minoraxis  ellipse_angle  elapsed_time  \n0                 NaN                NaN            NaN       181.483  \n1                 NaN                NaN            NaN       176.524  \n2                 NaN                NaN            NaN       195.470  \n3                 NaN                NaN            NaN       210.434  \n4                 NaN                NaN            NaN       223.401  \n5                 NaN                NaN            NaN       190.487  \n6                 NaN                NaN            NaN       217.417  \n7                 NaN                NaN            NaN       202.456  \n8                 NaN                NaN            NaN       181.514  \n9                 NaN                NaN            NaN       208.440  \n10                NaN                NaN            NaN       186.499  \n[]\n"
     ]
    }
   ],
   "source": [
    "if __name__=='__main__':\n",
    "    run()"
   ]
  },
  {
   "cell_type": "code",
   "execution_count": null,
   "metadata": {},
   "outputs": [],
   "source": [
    "result = []\n",
    "images = []\n",
    "for i in files:\n",
    "    con_img = convolve_image(contrast_image(get_image(i)))\n",
    "    filter_img = filter_image(con_img)\n",
    "    sur = abs((filter_img))>np.max(filter_img)*0.2\n",
    "    sur = np.where(sur==True)\n",
    "    print(sur)\n",
    "    result.append(sur)"
   ]
  },
  {
   "cell_type": "code",
   "execution_count": null,
   "metadata": {},
   "outputs": [],
   "source": [
    "surr= [(r[0]/np.max(r),r[1]/np.max(r)) for r in result]"
   ]
  },
  {
   "cell_type": "code",
   "execution_count": null,
   "metadata": {},
   "outputs": [],
   "source": [
    "index = 1\n",
    "fig, ax = plt.subplots(1, 1, figsize=(8, 8))\n",
    "ax.plot(surr[index][0],surr[index][1], '.', color='black')\n",
    "ax.grid(which='major', alpha=0.50)\n",
    "ax.grid(which='major', color='black', linestyle='--')\n",
    "plt.grid(True)\n",
    "plt.tight_layout()\n",
    "plt.show()"
   ]
  },
  {
   "cell_type": "code",
   "execution_count": null,
   "metadata": {},
   "outputs": [],
   "source": [
    "fig, axes = plt.subplots(len(images), 1, figsize=(100,100))\n",
    "for i,image in enumerate(images):\n",
    "    axes[i].imshow(image, cmap='binary') \n",
    "    axes[i].axis('on')\n",
    "plt.tight_layout()\n",
    "plt.show()\n",
    "\n",
    "    "
   ]
  },
  {
   "cell_type": "code",
   "execution_count": null,
   "metadata": {},
   "outputs": [],
   "source": [
    "fig, axes = plt.subplots(len(convolve_img), 1, figsize=(100,100))\n",
    "for i,image in enumerate(convolve_img):\n",
    "    axes[i].imshow(image, cmap='binary') \n",
    "    axes[i].axis('on')\n",
    "plt.tight_layout()\n",
    "plt.show()"
   ]
  },
  {
   "cell_type": "code",
   "execution_count": null,
   "metadata": {},
   "outputs": [],
   "source": []
  }
 ]
}